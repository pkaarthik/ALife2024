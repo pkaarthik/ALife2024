{
 "cells": [
  {
   "cell_type": "code",
   "execution_count": 1,
   "id": "666768b7-e501-4e24-854b-cd58d04b8d8a",
   "metadata": {},
   "outputs": [],
   "source": [
    "import mujoco\n",
    "import dm_control.mujoco\n",
    "from mujoco import viewer\n",
    "import random\n",
    "import os\n",
    "import time\n",
    "import math\n",
    "import numpy as np\n",
    "import matplotlib.pyplot as plt\n",
    "import xml.etree.ElementTree as ET\n",
    "\n",
    "\n"
   ]
  },
  {
   "cell_type": "code",
   "execution_count": 2,
   "id": "a3c3c2c9-2b17-4992-a0bd-33c0b56cc5b2",
   "metadata": {},
   "outputs": [],
   "source": [
    "#### Evolutionary Algorithm\n",
    "def evolution(xml, gen, bodies_per_gen, iterations_body):\n",
    "\n",
    "\n",
    "    i=0 #generation iteration counter\n",
    "    j=0 #body iteration counter\n",
    "    \n",
    "    best_body_fitness = 0\n",
    "    best_body = 0\n",
    "    \n",
    "    best_gen_fitness = []\n",
    "    gen_list = []\n",
    "    xml_list = []\n",
    "    best_specimen = []\n",
    "    \n",
    "    while i<gen:\n",
    "        while j<bodies_per_gen:\n",
    "            fitness = mutate(xml,i,j, iterations_body)                    #Mutate the model, simulate and determine the fitness of the model\n",
    "            #fitness = fitness_for_model(\"new.xml\")         \n",
    "            xml_list.append(\"new.xml\")\n",
    "            if fitness > best_body_fitness:\n",
    "                best_body_fitness = fitness\n",
    "                best_body = j\n",
    "                #xml = \"new.xml\"\n",
    "            j+=1\n",
    "            \n",
    "        if j==bodies_per_gen:\n",
    "            print(best_body_fitness, best_body)\n",
    "            best_gen_fitness.append(best_body_fitness)\n",
    "            \n",
    "            if best_body_fitness > np.argmax(best_gen_fitness):\n",
    "                xml = xml_list[best_body]\n",
    "                best_specimen.append(best_body)\n",
    "            j=0\n",
    "            \n",
    "        \n",
    "        gen_list.append(i+1)\n",
    "        #print(best_gen_fitness)\n",
    "        xml_list = []  #reset values\n",
    "        best_body_fitness = 0   \n",
    "        best_body = 0\n",
    "        \n",
    "        i+=1\n",
    "    \n",
    "    print(best_gen_fitness)\n",
    "    print(best_specimen)\n",
    "    plot(gen_list, best_gen_fitness)\n"
   ]
  },
  {
   "cell_type": "code",
   "execution_count": 3,
   "id": "e9603a63-580c-4b72-85ce-52910b2dfa70",
   "metadata": {},
   "outputs": [],
   "source": [
    "### MUTATE ###\n",
    "def mutate(best_xml_file,i,j, iterations_body):\n",
    "    tree = ET.parse(best_xml_file)\n",
    "    root = tree.getroot()\n",
    "    if (random.uniform(0,1)>0.25):  #mutate if random generation is >0.25 to throw further variability into each generation\n",
    "        \n",
    "        ###Modify main body size and mass and arm size and mass\n",
    "        body_geom = root.find(\".//body[@name='geodude_body']/body/geom\")\n",
    "        #body_geom.set('mass', str(float(body_geom.get('mass'))*random.uniform(0.8,1.2))) #body mass change\n",
    "        body_geom.set('size', str(float(body_geom.get('size'))*random.uniform(0.8,1.2))) #body size change\n",
    "        \n",
    "        arm_geom = root.find(\".//body[@name='arm1']/body/geom\")\n",
    "        arm_geom.set('mass', str(float(arm_geom.get('mass'))*random.uniform(0.8,1.2)))  #arm mass change\n",
    "        arm_geom.set('size', str(float(arm_geom.get('size'))*random.uniform(0.8,1.2)))  #arm size change\n",
    "        \n",
    "        arm_geom = root.find(\".//body[@name='arm2']/body/geom\")\n",
    "        arm_geom.set('mass', str(float(arm_geom.get('mass'))*random.uniform(0.8,1.2)))  #arm mass change\n",
    "        arm_geom.set('size', str(float(arm_geom.get('size'))*random.uniform(0.8,1.2)))  #arm size change\n",
    "           \n",
    "    tree.write(f\"Gen{i}Body{j}.xml\")   #write to new xml files\n",
    "    tree.write(\"new.xml\") \n",
    "\n",
    "    model = mujoco.MjModel.from_xml_path(\"new.xml\") #read to mujoco model viewer\n",
    "    data = mujoco.MjData(model)  \n",
    "     \n",
    "    joint_range = 45 #arm motion range\n",
    "    \n",
    "    iterations = 0 #iteration counter\n",
    "    i=0\n",
    "\n",
    "    with mujoco.viewer.launch_passive(model, data) as viewer:\n",
    "        viewer.cam.azimuth = 45\n",
    "        viewer.cam.elevation = -20\n",
    "        viewer.cam.distance = 10\n",
    "\n",
    "        while iterations < iterations_body:\n",
    "            iterations += 1 \n",
    "\n",
    "            while i < len(data.ctrl):  #\n",
    "                ctrl = np.deg2rad(joint_range * random.uniform(-1,1))  #Randomize angle of actuation within a joint range\n",
    "                data.ctrl[i] = ctrl\n",
    "                i+=1\n",
    "            i=0\n",
    "\n",
    "            dm_control.mujoco.mj_step(model, data)\n",
    "            viewer.sync()                              ### Comment these two lines out to speed up code heavily\n",
    "            time.sleep(1/1000)\n",
    "                \n",
    "            \n",
    "    final_pos = data.qpos[:3]\n",
    "    #print(final_pos)\n",
    "    fitness = np.sqrt((final_pos[0])**2+(final_pos[1])**2+(final_pos[2])**2) #fitness is just the total distance traveled by the geodude from the origin, ignoring the drop distance\n",
    "    #print(fitness)  \n",
    "    return fitness\n"
   ]
  },
  {
   "cell_type": "code",
   "execution_count": 4,
   "id": "440d9e54-6e63-423d-85d0-804e22421838",
   "metadata": {},
   "outputs": [],
   "source": [
    "def plot(gen_list, best_gen_fitness):   #plot best fitness of each generation, which is the seed for the next generation\n",
    "    plt.figure()\n",
    "    plt.plot(gen_list, best_gen_fitness)  \n",
    "    plt.xlabel('Generation')\n",
    "    plt.ylabel('Highest Fitness')\n",
    "    plt.title('Best Evolved fitness Values')\n",
    "    plt.show()\n",
    "    plt.savefig(fitness.png)"
   ]
  },
  {
   "cell_type": "code",
   "execution_count": 6,
   "id": "82c68e0d-0ae0-490b-bc7a-62ee4cac86be",
   "metadata": {},
   "outputs": [
    {
     "ename": "KeyboardInterrupt",
     "evalue": "",
     "output_type": "error",
     "traceback": [
      "\u001b[1;31m---------------------------------------------------------------------------\u001b[0m",
      "\u001b[1;31mKeyboardInterrupt\u001b[0m                         Traceback (most recent call last)",
      "Cell \u001b[1;32mIn[6], line 1\u001b[0m\n\u001b[1;32m----> 1\u001b[0m \u001b[43mevolution\u001b[49m\u001b[43m(\u001b[49m\u001b[38;5;124;43m\"\u001b[39;49m\u001b[38;5;124;43mgeodude.xml\u001b[39;49m\u001b[38;5;124;43m\"\u001b[39;49m\u001b[43m,\u001b[49m\u001b[43m \u001b[49m\u001b[38;5;241;43m10\u001b[39;49m\u001b[43m,\u001b[49m\u001b[43m \u001b[49m\u001b[38;5;241;43m100\u001b[39;49m\u001b[43m,\u001b[49m\u001b[43m \u001b[49m\u001b[38;5;241;43m5000\u001b[39;49m\u001b[43m)\u001b[49m\n",
      "Cell \u001b[1;32mIn[2], line 18\u001b[0m, in \u001b[0;36mevolution\u001b[1;34m(xml, gen, bodies_per_gen, iterations_body)\u001b[0m\n\u001b[0;32m     16\u001b[0m \u001b[38;5;28;01mwhile\u001b[39;00m i\u001b[38;5;241m<\u001b[39mgen:\n\u001b[0;32m     17\u001b[0m     \u001b[38;5;28;01mwhile\u001b[39;00m j\u001b[38;5;241m<\u001b[39mbodies_per_gen:\n\u001b[1;32m---> 18\u001b[0m         fitness \u001b[38;5;241m=\u001b[39m \u001b[43mmutate\u001b[49m\u001b[43m(\u001b[49m\u001b[43mxml\u001b[49m\u001b[43m,\u001b[49m\u001b[43mi\u001b[49m\u001b[43m,\u001b[49m\u001b[43mj\u001b[49m\u001b[43m,\u001b[49m\u001b[43m \u001b[49m\u001b[43miterations_body\u001b[49m\u001b[43m)\u001b[49m                    \u001b[38;5;66;03m#Mutate the model, simulate and determine the fitness of the model\u001b[39;00m\n\u001b[0;32m     19\u001b[0m         \u001b[38;5;66;03m#fitness = fitness_for_model(\"new.xml\")         \u001b[39;00m\n\u001b[0;32m     20\u001b[0m         xml_list\u001b[38;5;241m.\u001b[39mappend(\u001b[38;5;124m\"\u001b[39m\u001b[38;5;124mnew.xml\u001b[39m\u001b[38;5;124m\"\u001b[39m)\n",
      "Cell \u001b[1;32mIn[3], line 47\u001b[0m, in \u001b[0;36mmutate\u001b[1;34m(best_xml_file, i, j, iterations_body)\u001b[0m\n\u001b[0;32m     45\u001b[0m         dm_control\u001b[38;5;241m.\u001b[39mmujoco\u001b[38;5;241m.\u001b[39mmj_step(model, data)\n\u001b[0;32m     46\u001b[0m         viewer\u001b[38;5;241m.\u001b[39msync()                              \u001b[38;5;66;03m### Comment these two lines out to speed up code heavily\u001b[39;00m\n\u001b[1;32m---> 47\u001b[0m         time\u001b[38;5;241m.\u001b[39msleep(\u001b[38;5;241m1\u001b[39m\u001b[38;5;241m/\u001b[39m\u001b[38;5;241m1000\u001b[39m)\n\u001b[0;32m     50\u001b[0m final_pos \u001b[38;5;241m=\u001b[39m data\u001b[38;5;241m.\u001b[39mqpos[:\u001b[38;5;241m3\u001b[39m]\n\u001b[0;32m     51\u001b[0m \u001b[38;5;66;03m#print(final_pos)\u001b[39;00m\n",
      "\u001b[1;31mKeyboardInterrupt\u001b[0m: "
     ]
    }
   ],
   "source": [
    "evolution(\"geodude.xml\", 10, 100, 5000)"
   ]
  },
  {
   "cell_type": "code",
   "execution_count": null,
   "id": "0162c9bb-f0f9-429e-beda-c20da51f5aa8",
   "metadata": {},
   "outputs": [],
   "source": [
    "#if __name__ == \"__main__\":\n",
    "    #evolution(\"geodude.xml\", 10, 100, 5000)"
   ]
  }
 ],
 "metadata": {
  "kernelspec": {
   "display_name": "Python 3 (ipykernel)",
   "language": "python",
   "name": "python3"
  },
  "language_info": {
   "codemirror_mode": {
    "name": "ipython",
    "version": 3
   },
   "file_extension": ".py",
   "mimetype": "text/x-python",
   "name": "python",
   "nbconvert_exporter": "python",
   "pygments_lexer": "ipython3",
   "version": "3.11.8"
  }
 },
 "nbformat": 4,
 "nbformat_minor": 5
}
